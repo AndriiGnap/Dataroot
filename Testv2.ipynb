{
 "cells": [
  {
   "cell_type": "markdown",
   "metadata": {},
   "source": [
    " ## 2. Маючи позитивне дійсне число a і невід'ємне ціле число n. Реалізувати функцію a^n без використання циклів, ** оператора або вбудованої функції math.pow (). Замість цього використовуйте рекурсію"
   ]
  },
  {
   "cell_type": "code",
   "execution_count": 2,
   "metadata": {},
   "outputs": [
    {
     "name": "stdout",
     "output_type": "stream",
     "text": [
      "10\n"
     ]
    }
   ],
   "source": [
    "def power_new(a,n):\n",
    "    if n == 0:\n",
    "        return a\n",
    "    else:\n",
    "        return a * n\n",
    "\n",
    "print(power_new(2,5))"
   ]
  },
  {
   "cell_type": "markdown",
   "metadata": {},
   "source": [
    "## 4. Реалізуйте клас Torus, який створюється за двома радіусами r, R, R > r. Містить два методи, які повертають відповідно: площу поверхні та об'єм."
   ]
  },
  {
   "cell_type": "code",
   "execution_count": null,
   "metadata": {
    "collapsed": true
   },
   "outputs": [],
   "source": [
    "class Torus:\n",
    "    def _init_(self, area, volume)\n",
    "    self.area = 4 * math.pi ** 2 * R * r\n",
    "    self.volume = 2 * math.pi ** 2 * R * r ** 2\n",
    "    "
   ]
  },
  {
   "cell_type": "markdown",
   "metadata": {},
   "source": [
    "## 5. Продемонструйте реалізацію декоратора з параметром."
   ]
  },
  {
   "cell_type": "code",
   "execution_count": null,
   "metadata": {
    "collapsed": true
   },
   "outputs": [],
   "source": [
    "import psutil\n",
    "from time import time\n",
    " \n",
    "def toggle(decorator):\n",
    "    \"\"\" позволить \"подключать\" и \"отключать\" декоратор \"\"\"\n",
    "    def new_decorator(fn):\n",
    "        decorated = decorator(fn)\n",
    " \n",
    "        def new_decorated(*x):\n",
    "            if decorator.enabled:\n",
    "                return decorated(*x)\n",
    "            else:\n",
    "                return fn(*x)\n",
    " \n",
    "        return new_decorated\n",
    " \n",
    "    decorator.enabled = True\n",
    "    return new_decorator\n",
    " \n",
    "def timed(fn):\n",
    "    def decorated(*x):\n",
    "        start = time()\n",
    "        result = fn(*x)\n",
    "        print \"Executing %s took %d ms\" % (fn.__name__, (time()-start)*1000)\n",
    "        return result\n",
    "    return decorated\n",
    " \n",
    "@toggle(timed)\n",
    "def cpuload():\n",
    "    load = psutil.cpu_percent()\n",
    "    print \"cpuload() returns %d\" % load\n",
    "    return load\n",
    " \n",
    "print \"cpuload.__name__==\" + cpuload.__name__\n",
    "print \"CPU load is %d%%\" % cpuload()\n",
    "timed.enabled = False\n",
    "print \"CPU load is %d%%\" % cpuload()"
   ]
  },
  {
   "cell_type": "markdown",
   "metadata": {},
   "source": [
    "## 6. Cкажімо, є два випадкові масиви A та B. Перевірте, чи вони однакові."
   ]
  },
  {
   "cell_type": "code",
   "execution_count": 3,
   "metadata": {},
   "outputs": [
    {
     "data": {
      "text/plain": [
       "False"
      ]
     },
     "execution_count": 3,
     "metadata": {},
     "output_type": "execute_result"
    }
   ],
   "source": [
    "words = {'hello', 'daddy', 'mum'}\n",
    "a = {'a', 'b', 'c', 'd'}\n",
    "a == words"
   ]
  },
  {
   "cell_type": "markdown",
   "metadata": {},
   "source": [
    "## 7. Поверніть з 2-вимірного масиву лінійно незалежні рядки."
   ]
  },
  {
   "cell_type": "code",
   "execution_count": null,
   "metadata": {
    "collapsed": true
   },
   "outputs": [],
   "source": [
    "import numpy as np\n",
    "\n",
    "matrix = np.array(\n",
    "    [\n",
    "        [0, 1 ,0 ,0],\n",
    "        [0, 0, 1, 0],\n",
    "    ])\n",
    "\n",
    "lambdas, V =  np.linalg.eig(matrix.T)\n",
    "print matrix[lambdas == 0,:]"
   ]
  },
  {
   "cell_type": "markdown",
   "metadata": {},
   "source": [
    "## 8. Знайдіть найближче значення до заданого значення в масиві."
   ]
  },
  {
   "cell_type": "code",
   "execution_count": null,
   "metadata": {
    "collapsed": true
   },
   "outputs": [],
   "source": [
    "import numpy as np\n",
    "def find_nearest(array,value):\n",
    "    idx = (np.abs(array-value)).argmin()\n",
    "    return array[idx]\n",
    "\n",
    "array = np.random.random(10)\n",
    "print(array)\n",
    "# [ 0.21069679  0.61290182  0.63425412  0.84635244  0.91599191  0.00213826\n",
    "#   0.17104965  0.56874386  0.57319379  0.28719469]\n",
    "\n",
    "value = 0.5\n",
    "\n",
    "print(find_nearest(array, value))\n",
    "# 0.568743859261"
   ]
  },
  {
   "cell_type": "markdown",
   "metadata": {},
   "source": [
    "## 9. Скажімо, є DataFrame df з 10 стовпчиком дійсних чисел. Наприклад:"
   ]
  },
  {
   "cell_type": "code",
   "execution_count": null,
   "metadata": {
    "collapsed": true
   },
   "outputs": [],
   "source": [
    "import numpy as np\n",
    "import pandas as pd\n",
    "\n",
    "df = pd.DataFrame(np.random.random(size=(5, 10)), columns=list('abcdefghij'))"
   ]
  },
  {
   "cell_type": "markdown",
   "metadata": {},
   "source": [
    "## Яка колонка чисел має найменшу суму?"
   ]
  },
  {
   "cell_type": "code",
   "execution_count": null,
   "metadata": {
    "collapsed": true
   },
   "outputs": [],
   "source": [
    "def sumcolumn(my_list):\n",
    "total = 0.0\n",
    "pickaposition = input(\"Enter a column: \")\n",
    "if pickaposition == ('1'):\n",
    "    for x in row:\n",
    "        total += my_list[x][0]\n",
    "    print total\n",
    "elif pickaposition == ('2'):\n",
    "    for x in row:\n",
    "        total += my_list[x][1]\n",
    "    print total\n",
    "elif pickaposition == ('3'): \n",
    "    for x in row:\n",
    "        total += my_list[x][2]\n",
    "    print total\n",
    "elif pickaposition == ('4'):\n",
    "    for x in row:\n",
    "        total += my_list[x][3]\n",
    "    print total\n",
    "elif pickaposition == ('5'):\n",
    "    for x in row:\n",
    "        total += my_list[x][4]\n",
    "    print total"
   ]
  },
  {
   "cell_type": "code",
   "execution_count": null,
   "metadata": {
    "collapsed": true
   },
   "outputs": [],
   "source": []
  },
  {
   "cell_type": "code",
   "execution_count": null,
   "metadata": {
    "collapsed": true
   },
   "outputs": [],
   "source": []
  },
  {
   "cell_type": "markdown",
   "metadata": {},
   "source": [
    "## 12.1. Виібрку з нормально розподіленої випадкової величиниimport pandas as pd"
   ]
  },
  {
   "cell_type": "code",
   "execution_count": null,
   "metadata": {
    "collapsed": true
   },
   "outputs": [],
   "source": [
    "import pandas as pd\n",
    "import numpy as np\n",
    "import matplotlib.pyplot as plt\n",
    "import scipy.stats as sts\n",
    "%matplotlib inline"
   ]
  },
  {
   "cell_type": "code",
   "execution_count": null,
   "metadata": {
    "collapsed": true
   },
   "outputs": [],
   "source": [
    "mu = 2.0\n",
    "sigma = 0.5\n",
    "\n",
    "norm_rv = sts.norm(loc=mu, scale=sigma)\n",
    "\n",
    "norm_rv.rvs(size=10)"
   ]
  },
  {
   "cell_type": "code",
   "execution_count": null,
   "metadata": {
    "collapsed": true
   },
   "outputs": [],
   "source": [
    "x = np.linspace(0,4,100)\n",
    "cdf = norm_rv.cdf(x) \n",
    "plt.plot(x, cdf)\n",
    "plt.ylabel('$F(x)$')\n",
    "plt.xlabel('$x$')"
   ]
  },
  {
   "cell_type": "markdown",
   "metadata": {},
   "source": [
    "## 12.2. Вибірку з розподілу Бернулі:"
   ]
  },
  {
   "cell_type": "code",
   "execution_count": null,
   "metadata": {
    "collapsed": true
   },
   "outputs": [],
   "source": [
    "bernoulli_rv = sts.bernoulli(0.7)\n",
    "\n",
    "bernoulli_rv.rvs(10)"
   ]
  },
  {
   "cell_type": "markdown",
   "metadata": {},
   "source": [
    "## 12.3. Вибірку з біноміального розподілу:"
   ]
  },
  {
   "cell_type": "code",
   "execution_count": null,
   "metadata": {
    "collapsed": true
   },
   "outputs": [],
   "source": [
    "binomial_rv = sts.binom(20, 0.7)\n",
    "binomial_rv.rvs(10)"
   ]
  },
  {
   "cell_type": "markdown",
   "metadata": {},
   "source": [
    "## 12.4. Вибірку з розподілу Пуассона:"
   ]
  },
  {
   "cell_type": "code",
   "execution_count": null,
   "metadata": {
    "collapsed": true
   },
   "outputs": [],
   "source": [
    "poisson_rv = sts.poisson(5)\n",
    "poisson_rv.rvs(10)"
   ]
  }
 ],
 "metadata": {
  "kernelspec": {
   "display_name": "Python 3",
   "language": "python",
   "name": "python3"
  },
  "language_info": {
   "codemirror_mode": {
    "name": "ipython",
    "version": 3
   },
   "file_extension": ".py",
   "mimetype": "text/x-python",
   "name": "python",
   "nbconvert_exporter": "python",
   "pygments_lexer": "ipython3",
   "version": "3.6.2"
  }
 },
 "nbformat": 4,
 "nbformat_minor": 2
}
